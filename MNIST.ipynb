{
  "nbformat": 4,
  "nbformat_minor": 0,
  "metadata": {
    "colab": {
      "name": "MNIST.ipynb",
      "version": "0.3.2",
      "provenance": [],
      "include_colab_link": true
    },
    "kernelspec": {
      "name": "python3",
      "display_name": "Python 3"
    },
    "accelerator": "GPU"
  },
  "cells": [
    {
      "cell_type": "markdown",
      "metadata": {
        "id": "view-in-github",
        "colab_type": "text"
      },
      "source": [
        "[View in Colaboratory](https://colab.research.google.com/github/GeniGaus/100DaysOfMLCode/blob/master/MNIST.ipynb)"
      ]
    },
    {
      "metadata": {
        "id": "sd-QYWZWSFCq",
        "colab_type": "code",
        "colab": {
          "base_uri": "https://localhost:8080/",
          "height": 136
        },
        "outputId": "6c3a3542-9229-4298-bfbb-055aad0bf7e7"
      },
      "cell_type": "code",
      "source": [
        "!pip install keras\n",
        "import keras"
      ],
      "execution_count": 1,
      "outputs": [
        {
          "output_type": "stream",
          "text": [
            "Requirement already satisfied: keras in /usr/local/lib/python3.6/dist-packages (2.1.6)\n",
            "Requirement already satisfied: scipy>=0.14 in /usr/local/lib/python3.6/dist-packages (from keras) (0.19.1)\n",
            "Requirement already satisfied: h5py in /usr/local/lib/python3.6/dist-packages (from keras) (2.8.0)\n",
            "Requirement already satisfied: numpy>=1.9.1 in /usr/local/lib/python3.6/dist-packages (from keras) (1.14.5)\n",
            "Requirement already satisfied: pyyaml in /usr/local/lib/python3.6/dist-packages (from keras) (3.13)\n",
            "Requirement already satisfied: six>=1.9.0 in /usr/local/lib/python3.6/dist-packages (from keras) (1.11.0)\n"
          ],
          "name": "stdout"
        },
        {
          "output_type": "stream",
          "text": [
            "Using TensorFlow backend.\n"
          ],
          "name": "stderr"
        }
      ]
    },
    {
      "metadata": {
        "id": "o2xgEHyGSNA9",
        "colab_type": "code",
        "colab": {}
      },
      "cell_type": "code",
      "source": [
        "from keras.models import Sequential\n",
        "from keras.layers import Conv2D, Flatten, MaxPooling2D, Dropout, BatchNormalization, Activation"
      ],
      "execution_count": 0,
      "outputs": []
    },
    {
      "metadata": {
        "id": "QGuwPDJsSwvL",
        "colab_type": "code",
        "colab": {
          "base_uri": "https://localhost:8080/",
          "height": 51
        },
        "outputId": "928ea305-a8dd-4724-887c-2f39e2f158a6"
      },
      "cell_type": "code",
      "source": [
        "#fetching data\n",
        "from keras.datasets import mnist\n",
        "(x_train,y_train_cat),(x_test,y_test_cat) = mnist.load_data()"
      ],
      "execution_count": 3,
      "outputs": [
        {
          "output_type": "stream",
          "text": [
            "Downloading data from https://s3.amazonaws.com/img-datasets/mnist.npz\n",
            "11493376/11490434 [==============================] - 6s 1us/step\n"
          ],
          "name": "stdout"
        }
      ]
    },
    {
      "metadata": {
        "id": "gidspuxlYVs1",
        "colab_type": "code",
        "colab": {
          "base_uri": "https://localhost:8080/",
          "height": 34
        },
        "outputId": "15d7c8c6-2125-4504-e735-4a9770589863"
      },
      "cell_type": "code",
      "source": [
        "print(x_train.shape)"
      ],
      "execution_count": 15,
      "outputs": [
        {
          "output_type": "stream",
          "text": [
            "(60000, 28, 28, 1)\n"
          ],
          "name": "stdout"
        }
      ]
    },
    {
      "metadata": {
        "id": "zOtJ02RuXko4",
        "colab_type": "code",
        "colab": {}
      },
      "cell_type": "code",
      "source": [
        "x_train = x_train.reshape(x_train.shape[0],x_train.shape[1],x_train.shape[2],1)\n",
        "x_test = x_test.reshape(x_test.shape[0],x_test.shape[1],x_test.shape[2],1)\n",
        "x_train = x_train.astype('float32')\n",
        "x_test = x_test.astype('float32')\n",
        "x_train /= 255\n",
        "x_test /= 255"
      ],
      "execution_count": 0,
      "outputs": []
    },
    {
      "metadata": {
        "id": "A-wD3aNbTaSx",
        "colab_type": "code",
        "colab": {}
      },
      "cell_type": "code",
      "source": [
        "#convert y into one-hot encoding\n",
        "num_classes = 10\n",
        "y_train = keras.utils.to_categorical(y_train_cat,num_classes=num_classes)\n",
        "y_test = keras.utils.to_categorical(y_test_cat,num_classes=num_classes)"
      ],
      "execution_count": 0,
      "outputs": []
    },
    {
      "metadata": {
        "id": "t4iIEzl-Uc4B",
        "colab_type": "code",
        "colab": {}
      },
      "cell_type": "code",
      "source": [
        "num_rows = x_train.shape[1]\n",
        "num_cols = x_train.shape[2]\n",
        "\n",
        "#create model\n",
        "mnist_model = Sequential()\n",
        "mnist_model.add(Conv2D(32,(3,3),use_bias=False,activation='relu',input_shape=(num_rows,num_cols,1)))\n",
        "mnist_model.add(BatchNormalization())\n",
        "mnist_model.add(Conv2D(64,(3,3),use_bias=False,activation='relu'))\n",
        "mnist_model.add(BatchNormalization())\n",
        "mnist_model.add(Dropout(0.5))\n",
        "mnist_model.add(Conv2D(64,(3,3),use_bias=False,activation='relu'))\n",
        "mnist_model.add(BatchNormalization())\n",
        "mnist_model.add(Conv2D(32,(3,3),use_bias=False,activation='relu'))\n",
        "mnist_model.add(BatchNormalization())\n",
        "mnist_model.add(Conv2D(num_classes,(20,20),use_bias=False,activation='relu'))\n",
        "mnist_model.add(Flatten())\n",
        "mnist_model.add(Activation('softmax'))"
      ],
      "execution_count": 0,
      "outputs": []
    },
    {
      "metadata": {
        "id": "bmxONwuvX6cw",
        "colab_type": "code",
        "colab": {
          "base_uri": "https://localhost:8080/",
          "height": 544
        },
        "outputId": "3d88541f-c99f-4928-d425-b29da20dd706"
      },
      "cell_type": "code",
      "source": [
        "mnist_model.summary()"
      ],
      "execution_count": 7,
      "outputs": [
        {
          "output_type": "stream",
          "text": [
            "_________________________________________________________________\n",
            "Layer (type)                 Output Shape              Param #   \n",
            "=================================================================\n",
            "conv2d_1 (Conv2D)            (None, 26, 26, 32)        288       \n",
            "_________________________________________________________________\n",
            "batch_normalization_1 (Batch (None, 26, 26, 32)        128       \n",
            "_________________________________________________________________\n",
            "conv2d_2 (Conv2D)            (None, 24, 24, 64)        18432     \n",
            "_________________________________________________________________\n",
            "batch_normalization_2 (Batch (None, 24, 24, 64)        256       \n",
            "_________________________________________________________________\n",
            "dropout_1 (Dropout)          (None, 24, 24, 64)        0         \n",
            "_________________________________________________________________\n",
            "conv2d_3 (Conv2D)            (None, 22, 22, 64)        36864     \n",
            "_________________________________________________________________\n",
            "batch_normalization_3 (Batch (None, 22, 22, 64)        256       \n",
            "_________________________________________________________________\n",
            "conv2d_4 (Conv2D)            (None, 20, 20, 32)        18432     \n",
            "_________________________________________________________________\n",
            "batch_normalization_4 (Batch (None, 20, 20, 32)        128       \n",
            "_________________________________________________________________\n",
            "conv2d_5 (Conv2D)            (None, 1, 1, 10)          128000    \n",
            "_________________________________________________________________\n",
            "flatten_1 (Flatten)          (None, 10)                0         \n",
            "_________________________________________________________________\n",
            "activation_1 (Activation)    (None, 10)                0         \n",
            "=================================================================\n",
            "Total params: 202,784\n",
            "Trainable params: 202,400\n",
            "Non-trainable params: 384\n",
            "_________________________________________________________________\n"
          ],
          "name": "stdout"
        }
      ]
    },
    {
      "metadata": {
        "id": "KhQ9O0OwWL2E",
        "colab_type": "code",
        "colab": {
          "base_uri": "https://localhost:8080/",
          "height": 391
        },
        "outputId": "4289168d-9aa8-434c-d347-464d2397c248"
      },
      "cell_type": "code",
      "source": [
        "mnist_model.compile(optimizer='adam',loss=keras.losses.categorical_crossentropy,metrics=['accuracy'])\n",
        "mnist_model.fit(x_train,y_train,epochs=10,batch_size=128,validation_data=(x_test,y_test))"
      ],
      "execution_count": 8,
      "outputs": [
        {
          "output_type": "stream",
          "text": [
            "Train on 60000 samples, validate on 10000 samples\n",
            "Epoch 1/10\n",
            "60000/60000 [==============================] - 27s 447us/step - loss: 0.1727 - acc: 0.9541 - val_loss: 0.1173 - val_acc: 0.9748\n",
            "Epoch 2/10\n",
            "60000/60000 [==============================] - 25s 421us/step - loss: 0.0925 - acc: 0.9800 - val_loss: 0.0923 - val_acc: 0.9823\n",
            "Epoch 3/10\n",
            "60000/60000 [==============================] - 25s 418us/step - loss: 0.0676 - acc: 0.9850 - val_loss: 0.0835 - val_acc: 0.9835\n",
            "Epoch 4/10\n",
            "60000/60000 [==============================] - 25s 421us/step - loss: 0.0507 - acc: 0.9885 - val_loss: 0.0766 - val_acc: 0.9823\n",
            "Epoch 5/10\n",
            "60000/60000 [==============================] - 25s 418us/step - loss: 0.0359 - acc: 0.9911 - val_loss: 0.0782 - val_acc: 0.9842\n",
            "Epoch 6/10\n",
            "60000/60000 [==============================] - 25s 413us/step - loss: 0.0275 - acc: 0.9925 - val_loss: 0.0518 - val_acc: 0.9880\n",
            "Epoch 7/10\n",
            "60000/60000 [==============================] - 25s 414us/step - loss: 0.0217 - acc: 0.9942 - val_loss: 0.0596 - val_acc: 0.9872\n",
            "Epoch 8/10\n",
            "60000/60000 [==============================] - 24s 407us/step - loss: 0.0201 - acc: 0.9941 - val_loss: 0.0599 - val_acc: 0.9874\n",
            "Epoch 9/10\n",
            "60000/60000 [==============================] - 25s 409us/step - loss: 0.0179 - acc: 0.9951 - val_loss: 0.0617 - val_acc: 0.9867\n",
            "Epoch 10/10\n",
            "60000/60000 [==============================] - 24s 405us/step - loss: 0.0189 - acc: 0.9946 - val_loss: 0.0544 - val_acc: 0.9884\n"
          ],
          "name": "stdout"
        },
        {
          "output_type": "execute_result",
          "data": {
            "text/plain": [
              "<keras.callbacks.History at 0x7f96d9b13908>"
            ]
          },
          "metadata": {
            "tags": []
          },
          "execution_count": 8
        }
      ]
    }
  ]
}